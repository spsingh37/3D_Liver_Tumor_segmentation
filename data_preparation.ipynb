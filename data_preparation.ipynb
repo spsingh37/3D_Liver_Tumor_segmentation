{
 "cells": [
  {
   "attachments": {},
   "cell_type": "markdown",
   "metadata": {},
   "source": [
    "# Data Preperation (Manual)"
   ]
  },
  {
   "attachments": {},
   "cell_type": "markdown",
   "metadata": {},
   "source": [
    "Assumes you had prepared data according to manual method shown in Youtube video (https://www.youtube.com/watch?v=M3ZWfamWrBM)\n",
    "\n",
    "Prior Steps involved:\n",
    "1. Create 'dicom_file' folder (inside 'data') to store all dicom intermediate data\n",
    "2. Create 'images' and 'labels' folders in 'dicom_file' to store all input(data) and output(labels)\n",
    "3. For each patient, use 3D Slicer to convert their image and segmentation data into images and labels\n",
    "4. Create 'dicom_group' folder to store all subsampled intermediate data\n",
    "5. Create 'images' and 'labels' folders in 'dicom_group' to store all input(data) and output(labels)\n",
    "6. Create 'nifti_files' folder to store nifti outputs\n",
    "7. Create 'images' and 'labels' folders in 'nifti_files' to store all input(data) and output(labels)\n",
    "8. Create 'task_data' folder to store final data location\n",
    "9. Create 'TrainVolumes', 'TrainSegmentation', 'TestVolumes', 'TestSegmentation' folders in 'task_data' to store seperation of data for each use case\n",
    "\n",
    "For detailed explanation and final folder layout, see readme.txt in 'data' folder.\n",
    "Also, if you are integrating 'nifti_files' that has been processed by other group members, you would only need folders from 6. onwards. Processed 'nifti_files' from other group members can be directly copied or moved into 'nifti_files'."
   ]
  },
  {
   "cell_type": "code",
   "execution_count": 1,
   "metadata": {},
   "outputs": [],
   "source": [
    "# define folder containin dicom and nifti intermediates\n",
    "\n",
    "in_images_dir = \"data/dicom_file/images\"\n",
    "out_images_dir = \"data/dicom_groups/images\"\n",
    "out_nifti_img_dir = \"data/nifti_files/images/\"\n",
    "\n",
    "in_labels_dir = \"data/dicom_file/labels\"\n",
    "out_labels_dir = \"data/dicom_groups/labels\"\n",
    "out_nifti_lbl_dir = \"data/nifti_files/labels/\"\n",
    "\n",
    "out_nifti_img_full_dir = \"data/nifti_files/images_full/\"\n",
    "out_nifti_lbl_full_dir = \"data/nifti_files/labels_full/\"\n",
    "\n",
    "# define folder to store testing and training folders\n",
    "\n",
    "train_images_dir = \"data/task_data/TrainVolumes/\"\n",
    "train_labels_dir = \"data/task_data/TrainSegmentation/\"\n",
    "test_images_dir = \"data/task_data/TestVolumes/\"\n",
    "test_labels_dir = \"data/task_data/TestSegmentation/\"\n",
    "\n",
    "train_images_full_dir = \"data/task_data/TrainVolumes_full/\"\n",
    "train_labels_full_dir = \"data/task_data/TrainLabels_full/\"\n",
    "test_images_full_dir = \"data/task_data/TestVolumes_full/\"\n",
    "test_labels_full_dir = \"data/task_data/TestLabels_full/\"\n",
    "\n",
    "# define number of slices\n",
    "num_slices = 64\n",
    "\n",
    "# define proportion of test and training data (0-1)\n",
    "train_proportion = 0.8"
   ]
  },
  {
   "cell_type": "code",
   "execution_count": 2,
   "metadata": {},
   "outputs": [],
   "source": [
    "%load_ext autoreload\n",
    "%autoreload 2"
   ]
  },
  {
   "cell_type": "code",
   "execution_count": 3,
   "metadata": {},
   "outputs": [],
   "source": [
    "# import required packages\n",
    "\n",
    "import os\n",
    "from glob import glob\n",
    "import shutil\n",
    "import logging\n",
    "import numpy as np\n",
    "\n",
    "from preporcess import create_groups, dcm2nifti"
   ]
  },
  {
   "attachments": {},
   "cell_type": "markdown",
   "metadata": {},
   "source": [
    "### Step 1: Split DICOM files into similar sized data \n",
    "Before we actually split the DICOM data, first print the list of directories to be targetted for confirmation. This steps assumed that you have already converted DICOMM series data from NIFTI as per youtube video instruction (see top) and placed them in 'dicomm_file' folder. CT images are stored in 'images' while segmentation maskes are stored in 'labels' folder. In either folder, each patient's DICOMM series data is stored in 1 folder with a unique name."
   ]
  },
  {
   "cell_type": "code",
   "execution_count": 5,
   "metadata": {},
   "outputs": [
    {
     "name": "stdout",
     "output_type": "stream",
     "text": [
      "data/dicom_file/images/liver_105\n",
      "data/dicom_file/images/liver_106\n",
      "data/dicom_file/images/liver_107\n",
      "data/dicom_file/images/liver_108\n",
      "data/dicom_file/images/liver_109\n",
      "data/dicom_file/images/liver_110\n",
      "data/dicom_file/images/liver_111\n",
      "data/dicom_file/images/liver_112\n",
      "data/dicom_file/images/liver_113\n",
      "data/dicom_file/images/liver_114\n",
      "data/dicom_file/images/liver_115\n",
      "data/dicom_file/images/liver_116\n",
      "data/dicom_file/images/liver_117\n",
      "data/dicom_file/images/liver_118\n",
      "data/dicom_file/images/liver_119\n",
      "data/dicom_file/images/liver_120\n",
      "data/dicom_file/images/liver_121\n",
      "data/dicom_file/images/liver_122\n",
      "data/dicom_file/images/liver_123\n",
      "data/dicom_file/images/liver_124\n",
      "data/dicom_file/images/liver_125\n",
      "data/dicom_file/images/liver_126\n",
      "data/dicom_file/images/liver_127\n",
      "data/dicom_file/images/liver_128\n",
      "data/dicom_file/images/liver_129\n",
      "data/dicom_file/images/liver_130\n",
      "data/dicom_file/labels/liver_105\n",
      "data/dicom_file/labels/liver_106\n",
      "data/dicom_file/labels/liver_107\n",
      "data/dicom_file/labels/liver_108\n",
      "data/dicom_file/labels/liver_109\n",
      "data/dicom_file/labels/liver_110\n",
      "data/dicom_file/labels/liver_111\n",
      "data/dicom_file/labels/liver_112\n",
      "data/dicom_file/labels/liver_113\n",
      "data/dicom_file/labels/liver_114\n",
      "data/dicom_file/labels/liver_115\n",
      "data/dicom_file/labels/liver_116\n",
      "data/dicom_file/labels/liver_117\n",
      "data/dicom_file/labels/liver_118\n",
      "data/dicom_file/labels/liver_119\n",
      "data/dicom_file/labels/liver_120\n",
      "data/dicom_file/labels/liver_121\n",
      "data/dicom_file/labels/liver_122\n",
      "data/dicom_file/labels/liver_123\n",
      "data/dicom_file/labels/liver_124\n",
      "data/dicom_file/labels/liver_125\n",
      "data/dicom_file/labels/liver_126\n",
      "data/dicom_file/labels/liver_127\n",
      "data/dicom_file/labels/liver_128\n",
      "data/dicom_file/labels/liver_129\n",
      "data/dicom_file/labels/liver_130\n"
     ]
    }
   ],
   "source": [
    "# print image data\n",
    "for patient in sorted(glob(in_images_dir + \"/*\")):\n",
    "    print(patient)\n",
    "\n",
    "# print label data\n",
    "for patient in sorted(glob(in_labels_dir + \"/*\")):\n",
    "    print(patient)"
   ]
  },
  {
   "attachments": {},
   "cell_type": "markdown",
   "metadata": {},
   "source": [
    "After verifying above folders target, runs the splitting tool provided by original author. This code assumes you have created a 'dicomm_groups' folder which has 'image' and 'labels' folder within it. Both 'image' and 'labels' need not have any other folder within them.\n",
    "WARNING: original code moves data to save space.\n",
    "Data is moved to a new set of folders in 'dicomm_groups'. Folder layout of 'dicomm_groups' is similar to 'dicomm_file' however instead of representing a single patient data, folders now represent an extracted 3D segment from the patient. For cases where there is not enough data to form a new segment, the data is left at the old file."
   ]
  },
  {
   "cell_type": "code",
   "execution_count": 6,
   "metadata": {},
   "outputs": [],
   "source": [
    "# split images\n",
    "create_groups(in_images_dir, out_images_dir, num_slices)\n",
    "# split labels\n",
    "create_groups(in_labels_dir, out_labels_dir, num_slices)"
   ]
  },
  {
   "attachments": {},
   "cell_type": "markdown",
   "metadata": {},
   "source": [
    "### Optional: Moves split DICOM files back into original files \n",
    "\n",
    "In the case where we need to change the method by which splitting happens, or we would like to undo the above progress, the bottom code moves files back from 'dicomm_groups' to 'dicomm_file' and delete folders representing the previous segmented data. This will reduce the need to regenerate data when we need to redo the segmentation process."
   ]
  },
  {
   "cell_type": "code",
   "execution_count": 4,
   "metadata": {},
   "outputs": [],
   "source": [
    "# move back images\n",
    "for patient in glob(in_images_dir + \"/*\"):\n",
    "    head, tail = os.path.split(patient)\n",
    "    for sub_patient in glob(out_images_dir + \"/\" + tail + \"*\"):\n",
    "        if len(os.listdir(sub_patient)) != 0:\n",
    "            for file in glob(sub_patient + \"/*\"):\n",
    "                shutil.move(file, patient)\n",
    "        shutil.rmtree(sub_patient)\n",
    "        \n",
    "# move back labels\n",
    "for patient in glob(in_labels_dir + \"/*\"):\n",
    "    head, tail = os.path.split(patient)\n",
    "    for sub_patient in glob(out_labels_dir + \"/\" + tail + \"*\"):\n",
    "        if len(os.listdir(sub_patient)) != 0:\n",
    "            for file in glob(sub_patient + \"/*\"):\n",
    "                shutil.move(file, patient)\n",
    "        shutil.rmtree(sub_patient)"
   ]
  },
  {
   "attachments": {},
   "cell_type": "markdown",
   "metadata": {},
   "source": [
    "### Step 2: Convert data back into nifti file format\n",
    "\n",
    "Now that the data has been segmented, we need to convert them back to NIFTI file format. Prior to this step, it is asummed that a 'nifti_files' folder containing 'images' and 'labels'. No folders are required to be in either of these files. The code below will convert DICOMM series data from 'dicommm_groups' to NIFTI data in 'nifti_files'.\n",
    "\n",
    "Note: when incorporating processed data from other group members, you can also download data from the group data drive and directly place them in 'nifti_files'."
   ]
  },
  {
   "cell_type": "code",
   "execution_count": null,
   "metadata": {},
   "outputs": [],
   "source": [
    "# convert images\n",
    "dcm2nifti(out_images_dir, out_nifti_img_dir)\n",
    "# convert labels\n",
    "dcm2nifti(out_labels_dir, out_nifti_lbl_dir)"
   ]
  },
  {
   "attachments": {},
   "cell_type": "markdown",
   "metadata": {},
   "source": [
    "### Step 3: Move files into training and testing folders\n",
    "\n",
    "Split data from 'nifti_files' into testing and training data in 'task_data'. This folder is also where the network will read from to run the training. The network will also pull test data for generating accuracy metrics to quantify how well it performs. Note you can define the seed below to determine if splitting of testing and trainning data should be a deterministic process."
   ]
  },
  {
   "cell_type": "code",
   "execution_count": 12,
   "metadata": {},
   "outputs": [
    {
     "name": "stdout",
     "output_type": "stream",
     "text": [
      "Num of training data: 683\n",
      "Num of test data: 171\n"
     ]
    }
   ],
   "source": [
    "# function to check that image and label file name matches\n",
    "def assert_data_labels_match(images, labels):\n",
    "    assert(len(images) == len(labels))\n",
    "    for img_name, lbl_name in zip(images, labels):\n",
    "        assert(os.path.basename(img_name) == os.path.basename(lbl_name))\n",
    "\n",
    "\n",
    "# load files to be moved\n",
    "images = sorted(glob(out_nifti_img_dir + \"/*.nii.gz\"))\n",
    "labels = sorted(glob(out_nifti_lbl_dir + \"/*.nii.gz\"))\n",
    "\n",
    "# run checks first\n",
    "assert(train_proportion > 0.0 and train_proportion < 1.0) # correct proportion\n",
    "assert_data_labels_match(images, labels) # image and label name matches\n",
    "\n",
    "# randomly pull N data for training depending on proportion\n",
    "N = int(round(len(images) * train_proportion))\n",
    "print('Num of training data:',N)\n",
    "print('Num of test data:', len(images) - N)\n",
    "train_ind = np.full((len(images)), False, dtype=bool)\n",
    "np.random.seed(seed=123)\n",
    "train_ind[np.random.choice(len(images), N, replace=False)] = True\n",
    "\n",
    "for ind, (image, label) in enumerate(zip(images, labels)):\n",
    "    if train_ind[ind]:\n",
    "        shutil.move(image, train_images_dir)\n",
    "        shutil.move(label, train_labels_dir)\n",
    "    else:\n",
    "        shutil.move(image, test_images_dir)\n",
    "        shutil.move(label, test_labels_dir)"
   ]
  },
  {
   "attachments": {},
   "cell_type": "markdown",
   "metadata": {},
   "source": [
    "### Optional: Move files back to Nifti folder to be redeployed\n",
    "\n",
    "For cases where you need to rerandomize or resplit the testing or training data, the below script moves the NIFTI files back from 'task_data' into 'nifti_files'."
   ]
  },
  {
   "cell_type": "code",
   "execution_count": 5,
   "metadata": {},
   "outputs": [
    {
     "name": "stdout",
     "output_type": "stream",
     "text": [
      "Moved 683 train images\n",
      "Moved 683 train labels\n",
      "Moved 171 test images\n",
      "Moved 171 test labels\n"
     ]
    }
   ],
   "source": [
    "# fetch all files\n",
    "train_images = glob(train_images_dir + \"/*.nii.gz\")\n",
    "train_labels = glob(train_labels_dir + \"/*.nii.gz\")\n",
    "test_images = glob(test_images_dir + \"/*.nii.gz\")\n",
    "test_labels = glob(test_labels_dir + \"/*.nii.gz\")\n",
    "\n",
    "# move train images\n",
    "for train_image in train_images:\n",
    "    shutil.move(train_image, out_nifti_img_dir)\n",
    "print('Moved',len(train_images),'train images')\n",
    "# move train labels\n",
    "for train_label in train_labels:\n",
    "    shutil.move(train_label, out_nifti_lbl_dir)\n",
    "print('Moved',len(train_labels),'train labels')\n",
    "# move test images\n",
    "for test_image in test_images:\n",
    "    shutil.move(test_image, out_nifti_img_dir)\n",
    "print('Moved',len(test_images),'test images')\n",
    "# move test labels\n",
    "for test_label in test_labels:\n",
    "    shutil.move(test_label, out_nifti_lbl_dir)\n",
    "print('Moved',len(test_labels),'test labels')"
   ]
  },
  {
   "attachments": {},
   "cell_type": "markdown",
   "metadata": {},
   "source": [
    "### Additional steps: Full images and labels without slicing"
   ]
  },
  {
   "attachments": {},
   "cell_type": "markdown",
   "metadata": {},
   "source": [
    "Same as above but for moving full data instead of sliced data into train_data"
   ]
  },
  {
   "cell_type": "code",
   "execution_count": 8,
   "metadata": {},
   "outputs": [
    {
     "name": "stdout",
     "output_type": "stream",
     "text": [
      "Num of training data: 105\n",
      "Num of test data: 26\n"
     ]
    }
   ],
   "source": [
    "# load files to be moved\n",
    "images_full = sorted(glob(out_nifti_img_full_dir + \"/*.nii.gz\"))\n",
    "labels_full = sorted(glob(out_nifti_lbl_full_dir + \"/*.nii.gz\"))\n",
    "\n",
    "# run checks first\n",
    "assert len(images_full) > 0\n",
    "assert len(images_full) == len(labels_full)\n",
    "# assert_data_labels_match(images, labels) # image and label name matches\n",
    "\n",
    "# randomly pull N data for training depending on proportion\n",
    "N = int(round(len(images_full) * train_proportion))\n",
    "print('Num of training data:',N)\n",
    "print('Num of test data:', len(images_full) - N)\n",
    "train_ind = np.full((len(images_full)), False, dtype=bool)\n",
    "np.random.seed(seed=123)\n",
    "train_ind[np.random.choice(len(images_full), N, replace=False)] = True\n",
    "\n",
    "for ind, (image, label) in enumerate(zip(images_full, labels_full)):\n",
    "    if train_ind[ind]:\n",
    "        shutil.move(image, train_images_full_dir)\n",
    "        shutil.move(label, train_labels_full_dir)\n",
    "    else:\n",
    "        shutil.move(image, test_images_full_dir)\n",
    "        shutil.move(label, test_labels_full_dir)"
   ]
  },
  {
   "attachments": {},
   "cell_type": "markdown",
   "metadata": {},
   "source": [
    "Same as above but for moving full data instead of sliced data back to nifti files"
   ]
  },
  {
   "cell_type": "code",
   "execution_count": 7,
   "metadata": {},
   "outputs": [
    {
     "name": "stdout",
     "output_type": "stream",
     "text": [
      "Moved 105 train full images\n",
      "Moved 105 train full labels\n",
      "Moved 26 test full images\n",
      "Moved 26 test full labels\n"
     ]
    }
   ],
   "source": [
    "# fetch all files\n",
    "train_full_images = glob(train_images_full_dir + \"/*.nii.gz\")\n",
    "train_full_labels = glob(train_labels_full_dir + \"/*.nii.gz\")\n",
    "test_full_images = glob(test_images_full_dir + \"/*.nii.gz\")\n",
    "test_full_labels = glob(test_labels_full_dir + \"/*.nii.gz\")\n",
    "\n",
    "# move train images\n",
    "for train_image in train_full_images:\n",
    "    shutil.move(train_image, out_nifti_img_full_dir)\n",
    "print('Moved',len(train_full_images),'train full images')\n",
    "# move train labels\n",
    "for train_label in train_full_labels:\n",
    "    shutil.move(train_label, out_nifti_lbl_full_dir)\n",
    "print('Moved',len(train_full_labels),'train full labels')\n",
    "# move test images\n",
    "for test_image in test_full_images:\n",
    "    shutil.move(test_image, out_nifti_img_full_dir)\n",
    "print('Moved',len(test_full_images),'test full images')\n",
    "# move test labels\n",
    "for test_label in test_full_labels:\n",
    "    shutil.move(test_label, out_nifti_lbl_full_dir)\n",
    "print('Moved',len(test_full_labels),'test full labels')"
   ]
  },
  {
   "attachments": {},
   "cell_type": "markdown",
   "metadata": {},
   "source": [
    "## Data Preperation Complete!\n",
    "\n",
    "Congratulations, you have completed data preperation. You can move on to train.py to train your model."
   ]
  }
 ],
 "metadata": {
  "kernelspec": {
   "display_name": "ml",
   "language": "python",
   "name": "python3"
  },
  "language_info": {
   "codemirror_mode": {
    "name": "ipython",
    "version": 3
   },
   "file_extension": ".py",
   "mimetype": "text/x-python",
   "name": "python",
   "nbconvert_exporter": "python",
   "pygments_lexer": "ipython3",
   "version": "3.10.9"
  },
  "orig_nbformat": 4,
  "vscode": {
   "interpreter": {
    "hash": "f87437c6f6c3ae3f7e6174368664cb2e4617e6694524c7a4c73d44c0f1612a3f"
   }
  }
 },
 "nbformat": 4,
 "nbformat_minor": 2
}
